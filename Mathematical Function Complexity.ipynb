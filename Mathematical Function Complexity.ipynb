{
 "cells": [
  {
   "cell_type": "markdown",
   "id": "58ec1d74",
   "metadata": {},
   "source": [
    "# **LAB | Math Functions & Big O Notation**"
   ]
  },
  {
   "cell_type": "markdown",
   "id": "c059f511",
   "metadata": {},
   "source": [
    "## **Overview**  \n",
    "\n",
    "In this exercise, you will **apply Big O notation** to analyze and rank the complexity of various mathematical functions.  \n",
    "The goal is to understand how different functions grow as the input size **\\( n \\)** increases.  \n",
    "\n",
    "---\n",
    "\n",
    "## **Instructions**  \n",
    "\n",
    "1. **Rank the functions** from **least complex** (slowest growth) to **most complex** (fastest growth).  \n",
    "2. **Determine the Big O notation** for each function.  \n",
    "3. **Provide a short explanation** for your ranking, referring to the characteristics of different time complexities.  \n",
    "\n",
    "---"
   ]
  },
  {
   "cell_type": "markdown",
   "id": "efb0c435",
   "metadata": {},
   "source": [
    "## **Functions to Rank**  \n",
    "\n",
    "Below is a list of functions. Analyze their growth rate and assign them a **Big O classification**.  \n",
    "\n",
    "1. $ f_1(n) = 2 $\n",
    "2. $ f_2(n) = \\log(n) $\n",
    "3. $ f_3(n) = n $\n",
    "4. $ f_4(n) = n \\log(n) $\n",
    "5. $ f_5(n) = n^2 $\n",
    "6. $ f_6(n) = 3n + 5 $\n",
    "7. $ f_7(n) = 4n^2 + 2n + 1 $\n",
    "8. $ f_8(n) = n^3 $\n",
    "9. $ f_9(n) = 5^n $\n",
    "10. $ f_{10}(n) = n! $\n",
    "11. $ f_{11}(n) = 7n^4 + n^2 $\n",
    "12. $ f_{12}(n) = \\sqrt{n} $\n",
    "\n",
    "---"
   ]
  },
  {
   "cell_type": "markdown",
   "id": "ec11ee06",
   "metadata": {},
   "source": [
    "## **How to Rank the Functions**  \n",
    "\n",
    "When ranking, use these **common Big O categories** as a reference:  \n",
    "\n",
    "- **Constant Time:** Functions that do not depend on $ n $ (e.g., $ O(1) $).\n",
    "- **Logarithmic Time:** Functions that grow logarithmically (e.g., $ O(\\log n) $).\n",
    "- **Linear Time:** Functions that grow linearly (e.g., $ O(n) $).\n",
    "- **Linearithmic Time:** Functions that grow as $ n \\log n $.\n",
    "- **Polynomial Time:** Functions that grow polynomially (e.g., $ O(n^k) $).\n",
    "- **Exponential Time:** Functions that grow exponentially (e.g., $ O(2^n) $).\n",
    "- **Factorial Time:** Functions that grow factorially (e.g., $ O(n!) $). \n",
    "\n",
    "---"
   ]
  },
  {
   "cell_type": "markdown",
   "id": "be21bed1",
   "metadata": {},
   "source": [
    "## **Your Answer: Rank and Justify Each Function**  \n",
    "\n",
    "\n",
    "1. **Function:** \\( f_1(n) = 2 \\)  \n",
    "   - **Big O Complexity:** \\( O(1) \\)  \n",
    "   - **Explanation:** Constant time complexity means the function does not depend on \\( n \\). It remains the same regardless of input size.  \n",
    "\n",
    "2. **Function:** \\( f_{12}(n) = \\sqrt{n} \\)  \n",
    "   - **Big O Complexity:** \\( O(\\sqrt{n}) \\)  \n",
    "   - **Explanation:** Grows slower than linear time but faster than constant time. Appears in problems related to divisibility checks and some optimized algorithms.  \n",
    "\n",
    "3. **Function:** \\( f_2(n) = \\log(n) \\)  \n",
    "   - **Big O Complexity:** \\( O(\\log n) \\)  \n",
    "   - **Explanation:** Logarithmic complexity is very efficient, often seen in binary search algorithms. The growth rate is very slow.  \n",
    "\n",
    "4. **Function:** \\( f_3(n) = n \\)  \n",
    "   - **Big O Complexity:** \\( O(n) \\)  \n",
    "   - **Explanation:** Linear complexity means the runtime grows proportionally to the input size. Found in simple loops and basic algorithms.  \n",
    "\n",
    "5. **Function:** \\( f_6(n) = 3n + 5 \\)  \n",
    "   - **Big O Complexity:** \\( O(n) \\)  \n",
    "   - **Explanation:** The linear term \\( 3n \\) dominates as \\( n \\) grows large. Constants like 3 and 5 do not affect complexity classification.  \n",
    "\n",
    "6. **Function:** \\( f_4(n) = n \\log(n) \\)  \n",
    "   - **Big O Complexity:** \\( O(n \\log n) \\)  \n",
    "   - **Explanation:** Common in sorting algorithms like Merge Sort and QuickSort. Grows slightly faster than linear but much slower than quadratic.  \n",
    "\n",
    "7. **Function:** \\( f_5(n) = n^2 \\)  \n",
    "   - **Big O Complexity:** \\( O(n^2) \\)  \n",
    "   - **Explanation:** Quadratic growth appears in nested loops and naive sorting algorithms like Bubble Sort. It scales poorly for large inputs.  \n",
    "\n",
    "8. **Function:** \\( f_7(n) = 4n^2 + 2n + 1 \\)  \n",
    "   - **Big O Complexity:** \\( O(n^2) \\)  \n",
    "   - **Explanation:** The quadratic term dominates as \\( n \\) increases. Lower-order terms and constants are ignored in Big O notation.  \n",
    "\n",
    "9. **Function:** \\( f_8(n) = n^3 \\)  \n",
    "   - **Big O Complexity:** \\( O(n^3) \\)  \n",
    "   - **Explanation:** Cubic complexity is common in brute-force algorithms solving 3D problems or triply nested loops. \n",
    "\n",
    "10. **Function:** \\( f_{11}(n) = 7n^4 + n^2 \\)  \n",
    "   - **Big O Complexity:** \\( O(n^4) \\)  \n",
    "   - **Explanation:** The highest-degree term determines the complexity. This function grows significantly faster than quadratic functions.  \n",
    "\n",
    "11. **Function:** \\( f_9(n) = 5^n \\)  \n",
    "   - **Big O Complexity:** \\( O(5^n) \\)  \n",
    "   - **Explanation:** Exponential growth is extremely inefficient, often seen in brute-force recursive algorithms (e.g., the naive solution to the Traveling Salesman Problem).  \n",
    "\n",
    "12. **Function:** \\( f_{10}(n) = n! \\)  \n",
    "   - **Big O Complexity:** \\( O(n!) \\)  \n",
    "   - **Explanation:** Factorial complexity is the worst case, growing even faster than exponential functions. Found in exhaustive search algorithms like brute-force permutations.  \n",
    "\n",
    "---\n",
    "\n",
    "### **Final Ranking from Best to Worst Complexity**  \n",
    "\\[\n",
    "O(1) < O(\\log n) < O(\\sqrt{n}) < O(n) < O(n \\log n) < O(n^2) < O(n^3) < O(n^4) < O(5^n) < O(n!)\n",
    "\\]\n",
    "\n",
    "\n",
    "---"
   ]
  },
  {
   "cell_type": "markdown",
   "id": "3020b640",
   "metadata": {},
   "source": [
    "\n",
    "\n",
    "**Happy coding! 🎯 Enjoy practicing Big O Notation!**  \n"
   ]
  }
 ],
 "metadata": {
  "language_info": {
   "name": "python"
  }
 },
 "nbformat": 4,
 "nbformat_minor": 5
}
